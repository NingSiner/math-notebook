{
 "cells": [
  {
   "cell_type": "code",
   "execution_count": 251,
   "id": "9a3ef6fe",
   "metadata": {},
   "outputs": [],
   "source": [
    "from pylab import *\n",
    "from sympy.interactive import printing\n",
    "printing.init_printing(use_latex= True)\n",
    "import numpy as np\n",
    "import sympy as smp\n",
    "import scipy as scp\n",
    "import matplotlib.pyplot as plt\n",
    "from scipy.integrate import quad\n",
    "from scipy.integrate import cumulative_trapezoid\n",
    "from sympy import symbols\n",
    "alpha, beta, sigma, psi, phi, theta= symbols ('alpha beta sigma psi phi theta')"
   ]
  },
  {
   "cell_type": "code",
   "execution_count": 185,
   "id": "99a97d73",
   "metadata": {},
   "outputs": [
    {
     "name": "stdout",
     "output_type": "stream",
     "text": [
      "Requirement already satisfied: handcalcs in ./anaconda3/lib/python3.11/site-packages (1.6.5)\n",
      "Requirement already satisfied: more_itertools in ./anaconda3/lib/python3.11/site-packages (from handcalcs) (8.12.0)\n",
      "Requirement already satisfied: nbconvert>=6.0 in ./anaconda3/lib/python3.11/site-packages (from handcalcs) (6.5.4)\n",
      "Requirement already satisfied: innerscope in ./anaconda3/lib/python3.11/site-packages (from handcalcs) (0.6.0)\n",
      "Requirement already satisfied: pyparsing in ./anaconda3/lib/python3.11/site-packages (from handcalcs) (3.0.9)\n",
      "Requirement already satisfied: lxml in ./anaconda3/lib/python3.11/site-packages (from nbconvert>=6.0->handcalcs) (4.9.3)\n",
      "Requirement already satisfied: beautifulsoup4 in ./anaconda3/lib/python3.11/site-packages (from nbconvert>=6.0->handcalcs) (4.12.2)\n",
      "Requirement already satisfied: bleach in ./anaconda3/lib/python3.11/site-packages (from nbconvert>=6.0->handcalcs) (4.1.0)\n",
      "Requirement already satisfied: defusedxml in ./anaconda3/lib/python3.11/site-packages (from nbconvert>=6.0->handcalcs) (0.7.1)\n",
      "Requirement already satisfied: entrypoints>=0.2.2 in ./anaconda3/lib/python3.11/site-packages (from nbconvert>=6.0->handcalcs) (0.4)\n",
      "Requirement already satisfied: jinja2>=3.0 in ./anaconda3/lib/python3.11/site-packages (from nbconvert>=6.0->handcalcs) (3.1.2)\n",
      "Requirement already satisfied: jupyter-core>=4.7 in ./anaconda3/lib/python3.11/site-packages (from nbconvert>=6.0->handcalcs) (5.3.0)\n",
      "Requirement already satisfied: jupyterlab-pygments in ./anaconda3/lib/python3.11/site-packages (from nbconvert>=6.0->handcalcs) (0.1.2)\n",
      "Requirement already satisfied: MarkupSafe>=2.0 in ./anaconda3/lib/python3.11/site-packages (from nbconvert>=6.0->handcalcs) (2.1.1)\n",
      "Requirement already satisfied: mistune<2,>=0.8.1 in ./anaconda3/lib/python3.11/site-packages (from nbconvert>=6.0->handcalcs) (0.8.4)\n",
      "Requirement already satisfied: nbclient>=0.5.0 in ./anaconda3/lib/python3.11/site-packages (from nbconvert>=6.0->handcalcs) (0.5.13)\n",
      "Requirement already satisfied: nbformat>=5.1 in ./anaconda3/lib/python3.11/site-packages (from nbconvert>=6.0->handcalcs) (5.9.2)\n",
      "Requirement already satisfied: packaging in ./anaconda3/lib/python3.11/site-packages (from nbconvert>=6.0->handcalcs) (23.1)\n",
      "Requirement already satisfied: pandocfilters>=1.4.1 in ./anaconda3/lib/python3.11/site-packages (from nbconvert>=6.0->handcalcs) (1.5.0)\n",
      "Requirement already satisfied: pygments>=2.4.1 in ./anaconda3/lib/python3.11/site-packages (from nbconvert>=6.0->handcalcs) (2.15.1)\n",
      "Requirement already satisfied: tinycss2 in ./anaconda3/lib/python3.11/site-packages (from nbconvert>=6.0->handcalcs) (1.2.1)\n",
      "Requirement already satisfied: traitlets>=5.0 in ./anaconda3/lib/python3.11/site-packages (from nbconvert>=6.0->handcalcs) (5.7.1)\n",
      "Requirement already satisfied: toolz in ./anaconda3/lib/python3.11/site-packages (from innerscope->handcalcs) (0.12.0)\n",
      "Requirement already satisfied: platformdirs>=2.5 in ./anaconda3/lib/python3.11/site-packages (from jupyter-core>=4.7->nbconvert>=6.0->handcalcs) (3.10.0)\n",
      "Requirement already satisfied: jupyter-client>=6.1.5 in ./anaconda3/lib/python3.11/site-packages (from nbclient>=0.5.0->nbconvert>=6.0->handcalcs) (7.4.9)\n",
      "Requirement already satisfied: nest-asyncio in ./anaconda3/lib/python3.11/site-packages (from nbclient>=0.5.0->nbconvert>=6.0->handcalcs) (1.5.6)\n",
      "Requirement already satisfied: fastjsonschema in ./anaconda3/lib/python3.11/site-packages (from nbformat>=5.1->nbconvert>=6.0->handcalcs) (2.16.2)\n",
      "Requirement already satisfied: jsonschema>=2.6 in ./anaconda3/lib/python3.11/site-packages (from nbformat>=5.1->nbconvert>=6.0->handcalcs) (4.17.3)\n",
      "Requirement already satisfied: soupsieve>1.2 in ./anaconda3/lib/python3.11/site-packages (from beautifulsoup4->nbconvert>=6.0->handcalcs) (2.4)\n",
      "Requirement already satisfied: six>=1.9.0 in ./anaconda3/lib/python3.11/site-packages (from bleach->nbconvert>=6.0->handcalcs) (1.16.0)\n",
      "Requirement already satisfied: webencodings in ./anaconda3/lib/python3.11/site-packages (from bleach->nbconvert>=6.0->handcalcs) (0.5.1)\n",
      "Requirement already satisfied: attrs>=17.4.0 in ./anaconda3/lib/python3.11/site-packages (from jsonschema>=2.6->nbformat>=5.1->nbconvert>=6.0->handcalcs) (22.1.0)\n",
      "Requirement already satisfied: pyrsistent!=0.17.0,!=0.17.1,!=0.17.2,>=0.14.0 in ./anaconda3/lib/python3.11/site-packages (from jsonschema>=2.6->nbformat>=5.1->nbconvert>=6.0->handcalcs) (0.18.0)\n",
      "Requirement already satisfied: python-dateutil>=2.8.2 in ./anaconda3/lib/python3.11/site-packages (from jupyter-client>=6.1.5->nbclient>=0.5.0->nbconvert>=6.0->handcalcs) (2.8.2)\n",
      "Requirement already satisfied: pyzmq>=23.0 in ./anaconda3/lib/python3.11/site-packages (from jupyter-client>=6.1.5->nbclient>=0.5.0->nbconvert>=6.0->handcalcs) (23.2.0)\n",
      "Requirement already satisfied: tornado>=6.2 in ./anaconda3/lib/python3.11/site-packages (from jupyter-client>=6.1.5->nbclient>=0.5.0->nbconvert>=6.0->handcalcs) (6.3.2)\n"
     ]
    }
   ],
   "source": [
    "!pip3 install handcalcs"
   ]
  },
  {
   "cell_type": "code",
   "execution_count": 193,
   "id": "3c4222ba",
   "metadata": {},
   "outputs": [
    {
     "name": "stdout",
     "output_type": "stream",
     "text": [
      "Collecting latexify-py\n",
      "  Obtaining dependency information for latexify-py from https://files.pythonhosted.org/packages/e6/0b/23468faf897a35e91cd8dfe21f724a8cc80df86003df160427272dde9eff/latexify_py-0.3.1-py3-none-any.whl.metadata\n",
      "  Downloading latexify_py-0.3.1-py3-none-any.whl.metadata (3.9 kB)\n",
      "Requirement already satisfied: dill>=0.3.2 in ./anaconda3/lib/python3.11/site-packages (from latexify-py) (0.3.6)\n",
      "Downloading latexify_py-0.3.1-py3-none-any.whl (36 kB)\n",
      "Installing collected packages: latexify-py\n",
      "Successfully installed latexify-py-0.3.1\n"
     ]
    }
   ],
   "source": [
    "!pip install latexify-py"
   ]
  },
  {
   "cell_type": "code",
   "execution_count": 201,
   "id": "5cfebb0a",
   "metadata": {},
   "outputs": [],
   "source": [
    "import handcalcs.render\n",
    "import latexify\n",
    "import math\n",
    "pi=math.pi"
   ]
  },
  {
   "cell_type": "markdown",
   "id": "bcaba79b",
   "metadata": {},
   "source": [
    "### <font size =20> Integration:"
   ]
  },
  {
   "cell_type": "markdown",
   "id": "8d115756",
   "metadata": {},
   "source": [
    "<font size =5>symbolic case:\n"
   ]
  },
  {
   "cell_type": "code",
   "execution_count": 158,
   "id": "eeeff0fc",
   "metadata": {},
   "outputs": [
    {
     "data": {
      "image/png": "[encoded data removed]",
      "text/latex": [
       "$\\displaystyle e^{- 5 a x} \\sin^{3}{\\left(x \\right)}$"
      ],
      "text/plain": [
       " -5⋅a⋅x    3   \n",
       "ℯ      ⋅sin (x)"
      ]
     },
     "metadata": {},
     "output_type": "display_data"
    }
   ],
   "source": [
    "x= smp.symbols('x', real=True) #define x as variable\n",
    "a, b =smp.symbols('a b', real=True, positive=True) #define a & b as constant\n",
    "f=smp.sin(x)**3*smp.exp(-5*a*x) #input function\n",
    "display(f)"
   ]
  },
  {
   "cell_type": "code",
   "execution_count": 10,
   "id": "223276e0",
   "metadata": {
    "scrolled": false
   },
   "outputs": [
    {
     "data": {
      "text/latex": [
       "$\\displaystyle - \\frac{125 a^{3} \\sin^{3}{\\left(x \\right)}}{625 a^{4} e^{5 a x} + 250 a^{2} e^{5 a x} + 9 e^{5 a x}} - \\frac{75 a^{2} \\sin^{2}{\\left(x \\right)} \\cos{\\left(x \\right)}}{625 a^{4} e^{5 a x} + 250 a^{2} e^{5 a x} + 9 e^{5 a x}} - \\frac{35 a \\sin^{3}{\\left(x \\right)}}{625 a^{4} e^{5 a x} + 250 a^{2} e^{5 a x} + 9 e^{5 a x}} - \\frac{30 a \\sin{\\left(x \\right)} \\cos^{2}{\\left(x \\right)}}{625 a^{4} e^{5 a x} + 250 a^{2} e^{5 a x} + 9 e^{5 a x}} - \\frac{9 \\sin^{2}{\\left(x \\right)} \\cos{\\left(x \\right)}}{625 a^{4} e^{5 a x} + 250 a^{2} e^{5 a x} + 9 e^{5 a x}} - \\frac{6 \\cos^{3}{\\left(x \\right)}}{625 a^{4} e^{5 a x} + 250 a^{2} e^{5 a x} + 9 e^{5 a x}}$"
      ],
      "text/plain": [
       "-125*a**3*sin(x)**3/(625*a**4*exp(5*a*x) + 250*a**2*exp(5*a*x) + 9*exp(5*a*x)) - 75*a**2*sin(x)**2*cos(x)/(625*a**4*exp(5*a*x) + 250*a**2*exp(5*a*x) + 9*exp(5*a*x)) - 35*a*sin(x)**3/(625*a**4*exp(5*a*x) + 250*a**2*exp(5*a*x) + 9*exp(5*a*x)) - 30*a*sin(x)*cos(x)**2/(625*a**4*exp(5*a*x) + 250*a**2*exp(5*a*x) + 9*exp(5*a*x)) - 9*sin(x)**2*cos(x)/(625*a**4*exp(5*a*x) + 250*a**2*exp(5*a*x) + 9*exp(5*a*x)) - 6*cos(x)**3/(625*a**4*exp(5*a*x) + 250*a**2*exp(5*a*x) + 9*exp(5*a*x))"
      ]
     },
     "execution_count": 10,
     "metadata": {},
     "output_type": "execute_result"
    }
   ],
   "source": [
    "smp.integrate(f,x) #integrate"
   ]
  },
  {
   "cell_type": "markdown",
   "id": "4d094d7d",
   "metadata": {},
   "source": [
    "<font size =6> General Integration"
   ]
  },
  {
   "cell_type": "code",
   "execution_count": 11,
   "id": "5a494871",
   "metadata": {},
   "outputs": [
    {
     "data": {
      "text/latex": [
       "$\\displaystyle - \\frac{\\left(125 a^{3} \\sin^{3}{\\left(x \\right)} + 75 a^{2} \\sin^{2}{\\left(x \\right)} \\cos{\\left(x \\right)} + 5 a \\sin^{3}{\\left(x \\right)} + 30 a \\sin{\\left(x \\right)} + 3 \\sin^{2}{\\left(x \\right)} \\cos{\\left(x \\right)} + 6 \\cos{\\left(x \\right)}\\right) e^{- 5 a x}}{625 a^{4} + 250 a^{2} + 9}$"
      ],
      "text/plain": [
       "-(125*a**3*sin(x)**3 + 75*a**2*sin(x)**2*cos(x) + 5*a*sin(x)**3 + 30*a*sin(x) + 3*sin(x)**2*cos(x) + 6*cos(x))*exp(-5*a*x)/(625*a**4 + 250*a**2 + 9)"
      ]
     },
     "execution_count": 11,
     "metadata": {},
     "output_type": "execute_result"
    }
   ],
   "source": [
    "smp.integrate(f,x).simplify() #integrate + simplyfy"
   ]
  },
  {
   "cell_type": "code",
   "execution_count": null,
   "id": "1a45c4e6",
   "metadata": {},
   "outputs": [],
   "source": [
    "# useful function: smp.exp() smp.sqrt() smp.rational()  smp.integrate() smp.sin() smp.asin"
   ]
  },
  {
   "cell_type": "code",
   "execution_count": 132,
   "id": "ab9479ce",
   "metadata": {},
   "outputs": [
    {
     "data": {
      "image/png": "[encoded data removed]",
      "text/latex": [
       "$\\displaystyle \\frac{e^{x}}{\\sqrt{e^{2 x} + 9}}$"
      ],
      "text/plain": [
       "       x     \n",
       "      ℯ      \n",
       "─────────────\n",
       "   __________\n",
       "  ╱  2⋅x     \n",
       "╲╱  ℯ    + 9 "
      ]
     },
     "metadata": {},
     "output_type": "display_data"
    },
    {
     "data": {
      "image/png": "[encoded data removed]",
      "text/latex": [
       "$\\displaystyle 2.41285290395816$"
      ],
      "text/plain": [
       "2.41285290395816"
      ]
     },
     "execution_count": 132,
     "metadata": {},
     "output_type": "execute_result"
    }
   ],
   "source": [
    "f2= smp.exp(x)/smp.sqrt(smp.exp(2*x)+9) #input function\n",
    "display (f2)\n",
    "smp.integrate(f2,(x,0,smp.log(4))) #integrate with value put in\n",
    "smp.integrate(f2,(x,0,np.pi)).evalf() #gave float as result\n",
    "#smp.oo= infinity  "
   ]
  },
  {
   "cell_type": "markdown",
   "id": "3aacf390",
   "metadata": {},
   "source": [
    "<font size =6 color=lightcoral> *3D wavefunction Normalization condtion*"
   ]
  },
  {
   "cell_type": "markdown",
   "id": "336d65ba",
   "metadata": {},
   "source": [
    "<font size =5 color=salmon>Input wavefunction:\n",
    "<font size =4 color=black> $$\\psi^{2}(r,\\theta,\\phi)=R^{2}(r)*Y^{2}(\\theta,\\phi)$$"
   ]
  },
  {
   "cell_type": "code",
   "execution_count": 254,
   "id": "d590f16e",
   "metadata": {
    "scrolled": true
   },
   "outputs": [
    {
     "data": {
      "text/latex": [
       "$$ \\displaystyle \\mathrm{fr}(r) = \\mathopen{}\\left( \\frac{1}{4 \\sqrt{ 2 \\mathrm{np}.\\mathrm{pi} }} a^{1.5} a r \\cdot \\exp \\mathopen{}\\left( \\frac{-a r}{2} \\mathclose{}\\right) \\mathclose{}\\right)^{2} $$"
      ],
      "text/plain": [
       "<latexify.ipython_wrappers.LatexifiedFunction at 0x13de88310>"
      ]
     },
     "metadata": {},
     "output_type": "display_data"
    },
    {
     "data": {
      "text/latex": [
       "$$ \\displaystyle \\mathrm{ftheta}(\\mathrm{theta}) = \\mathopen{}\\left( \\cos \\mathrm{theta} \\mathclose{}\\right)^{2} $$"
      ],
      "text/plain": [
       "<latexify.ipython_wrappers.LatexifiedFunction at 0x13de892d0>"
      ]
     },
     "metadata": {},
     "output_type": "display_data"
    },
    {
     "data": {
      "text/latex": [
       "$$ \\displaystyle \\mathrm{fphi}(\\mathrm{phi}) = 1^{2} $$"
      ],
      "text/plain": [
       "<latexify.ipython_wrappers.LatexifiedFunction at 0x13de89310>"
      ]
     },
     "metadata": {},
     "output_type": "display_data"
    }
   ],
   "source": [
    "r, theta, phi = smp.symbols('r theta psi', real=True) #define variables\n",
    "a, Z =smp.symbols('a Z', real=True, positive=True) #define constants\n",
    "\n",
    "#define psi^2 210\n",
    "\n",
    "@latexify.function\n",
    "def fr(r):\n",
    "    return (1/(4*sqrt(2*np.pi))*(a**1.5)*(a*r)*smp.exp(-a*r/2))**2\n",
    "@latexify.function\n",
    "def ftheta(theta): \n",
    "    return (smp.cos(theta))**2\n",
    "@latexify.function()\n",
    "def fphi(phi):\n",
    "    return 1**2\n",
    "'''@latexify.function()\n",
    "def probabilityDensity (r,theta,phi):\n",
    "    return fr(r)*ftheta(theta)*fphi(phi)'''\n",
    "display(fr,ftheta,fphi)"
   ]
  },
  {
   "cell_type": "markdown",
   "id": "22c1038a",
   "metadata": {},
   "source": [
    "<font size =5 color=#DB7093> Output integral:\n",
    "    \n",
    "<font size =4 color=black>$$\\int^{\\infty}_{0}{\\psi^{2}(r,\\theta,\\phi)}=\\int^{\\infty}_{0}{r^{2}{dr}R^{2}(r)}*\\int^{2\\pi}_{0}{d\\phi}\\int^{\\pi}_{0}{d\\theta}Y^{2}(\\theta,\\phi)$$"
   ]
  },
  {
   "cell_type": "code",
   "execution_count": 264,
   "id": "a2ddf481",
   "metadata": {},
   "outputs": [
    {
     "data": {
      "image/png": "[encoded data removed]",
      "text/latex": [
       "$\\displaystyle 0.238732414637843$"
      ],
      "text/plain": [
       "0.238732414637843"
      ]
     },
     "metadata": {},
     "output_type": "display_data"
    },
    {
     "data": {
      "image/png": "[encoded data removed]",
      "text/latex": [
       "$\\displaystyle 0.666666666666667$"
      ],
      "text/plain": [
       "0.666666666666667"
      ]
     },
     "metadata": {},
     "output_type": "display_data"
    },
    {
     "data": {
      "image/png": "[encoded data removed]",
      "text/latex": [
       "$\\displaystyle 6.28318530717959$"
      ],
      "text/plain": [
       "6.28318530717959"
      ]
     },
     "metadata": {},
     "output_type": "display_data"
    },
    {
     "name": "stdout",
     "output_type": "stream",
     "text": [
      "integral result= 1.00000000000000\n"
     ]
    }
   ],
   "source": [
    "#display(smp.Integral(fr,r), smp.Integral(ftheta,theta), smp.Integral(fphi,phi))  \n",
    "ir= smp.integrate(fr(r)*(r**2),(r, 0, smp.oo)) #integral over r\n",
    "itheta=smp.integrate(ftheta(theta)*smp.sin(theta),(theta,0, np.pi)).evalf() #integral over theta\n",
    "iphi=smp.integrate(fphi(phi),(phi,0,2*np.pi))\n",
    "display(ir, itheta, iphi) \n",
    "\n",
    "print('integral result=', ir*itheta*iphi)\n",
    "\n"
   ]
  },
  {
   "cell_type": "code",
   "execution_count": null,
   "id": "012e933b",
   "metadata": {},
   "outputs": [],
   "source": [
    "\n"
   ]
  },
  {
   "cell_type": "markdown",
   "id": "3addf7c7",
   "metadata": {},
   "source": [
    "<font size =6>  3D wavefuction average measurment "
   ]
  },
  {
   "cell_type": "markdown",
   "id": "7157b610",
   "metadata": {},
   "source": [
    "<font size =4>average value of r,r^2, 1/r, 1/r^2 etc."
   ]
  },
  {
   "cell_type": "code",
   "execution_count": null,
   "id": "3b25117f",
   "metadata": {},
   "outputs": [],
   "source": [
    "r, theta, phi = smp.symbols('r theta psi', real=True) #define variables\n",
    "a, Z =smp.symbols('a Z', real=True, positive=True) #define constants\n",
    "\n"
   ]
  },
  {
   "cell_type": "markdown",
   "id": "d464ab96",
   "metadata": {},
   "source": [
    "input Function and Operater"
   ]
  },
  {
   "cell_type": "code",
   "execution_count": 266,
   "id": "d197a714",
   "metadata": {},
   "outputs": [
    {
     "data": {
      "text/latex": [
       "$$ \\displaystyle \\mathrm{fr}(r) = \\mathopen{}\\left( \\frac{1}{4 \\sqrt{ 2 \\mathrm{np}.\\mathrm{pi} }} a^{1.5} a r \\cdot \\exp \\mathopen{}\\left( \\frac{-a r}{2} \\mathclose{}\\right) \\mathclose{}\\right)^{2} $$"
      ],
      "text/plain": [
       "<latexify.ipython_wrappers.LatexifiedFunction at 0x13df86210>"
      ]
     },
     "metadata": {},
     "output_type": "display_data"
    },
    {
     "data": {
      "text/latex": [
       "$$ \\displaystyle \\mathrm{ftheta}(\\mathrm{theta}) = \\mathopen{}\\left( \\cos \\mathrm{theta} \\mathclose{}\\right)^{2} $$"
      ],
      "text/plain": [
       "<latexify.ipython_wrappers.LatexifiedFunction at 0x13de4df90>"
      ]
     },
     "metadata": {},
     "output_type": "display_data"
    },
    {
     "data": {
      "text/latex": [
       "$$ \\displaystyle \\mathrm{fphi}(\\mathrm{phi}) = 1^{2} $$"
      ],
      "text/plain": [
       "<latexify.ipython_wrappers.LatexifiedFunction at 0x13c5f8050>"
      ]
     },
     "metadata": {},
     "output_type": "display_data"
    }
   ],
   "source": [
    "#define psi^2 210\n",
    "@latexify.function\n",
    "def fr(r):\n",
    "    return (1/(4*sqrt(2*np.pi))*(a**1.5)*(a*r)*smp.exp(-a*r/2))**2\n",
    "@latexify.function\n",
    "def ftheta(theta): \n",
    "    return (smp.cos(theta))**2\n",
    "@latexify.function()\n",
    "def fphi(phi):\n",
    "    return 1**2\n",
    "display(fr,ftheta,fphi)\n",
    "#define operator\n",
    "\n",
    "opeR=r"
   ]
  },
  {
   "cell_type": "code",
   "execution_count": 267,
   "id": "17e339e8",
   "metadata": {},
   "outputs": [
    {
     "data": {
      "image/png": "[encoded data removed]",
      "text/latex": [
       "$\\displaystyle \\frac{1.19366207318922}{a}$"
      ],
      "text/plain": [
       "1.19366207318922\n",
       "────────────────\n",
       "       a        "
      ]
     },
     "metadata": {},
     "output_type": "display_data"
    },
    {
     "data": {
      "image/png": "[encoded data removed]",
      "text/latex": [
       "$\\displaystyle 0.666666666666667$"
      ],
      "text/plain": [
       "0.666666666666667"
      ]
     },
     "metadata": {},
     "output_type": "display_data"
    },
    {
     "data": {
      "image/png": "[encoded data removed]",
      "text/latex": [
       "$\\displaystyle 6.28318530717959$"
      ],
      "text/plain": [
       "6.28318530717959"
      ]
     },
     "metadata": {},
     "output_type": "display_data"
    },
    {
     "name": "stdout",
     "output_type": "stream",
     "text": [
      "integral result= 5.0/a\n"
     ]
    }
   ],
   "source": [
    "#display(smp.Integral(fr,r), smp.Integral(ftheta,theta), smp.Integral(fphi,phi))  \n",
    "ir= smp.integrate(fr(r)*(r**2)*opeR,(r, 0, smp.oo)) #integral over r\n",
    "itheta=smp.integrate(ftheta(theta)*smp.sin(theta),(theta,0, np.pi)).evalf() #integral over theta\n",
    "iphi=smp.integrate(fphi(phi),(phi,0,2*np.pi))\n",
    "display(ir, itheta, iphi) \n",
    "\n",
    "print('integral result=', ir*itheta*iphi)\n",
    "\n",
    "\n"
   ]
  },
  {
   "cell_type": "code",
   "execution_count": 253,
   "id": "d21cf594",
   "metadata": {},
   "outputs": [
    {
     "name": "stdout",
     "output_type": "stream",
     "text": [
      "\\[\n",
      "\\begin{aligned}\n",
      "\\mathrm{fpsi} &= \\psi^{2} \\; \n",
      "\\end{aligned}\n",
      "\\]\n"
     ]
    }
   ],
   "source": [
    "%%tex\n",
    "fpsi=psi**2"
   ]
  }
 ],
 "metadata": {
  "kernelspec": {
   "display_name": "Python 3 (ipykernel)",
   "language": "python",
   "name": "python3"
  },
  "language_info": {
   "codemirror_mode": {
    "name": "ipython",
    "version": 3
   },
   "file_extension": ".py",
   "mimetype": "text/x-python",
   "name": "python",
   "nbconvert_exporter": "python",
   "pygments_lexer": "ipython3",
   "version": "3.11.5"
  }
 },
 "nbformat": 4,
 "nbformat_minor": 5
}
