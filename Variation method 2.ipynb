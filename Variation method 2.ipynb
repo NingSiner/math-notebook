{
 "cells": [
  {
   "cell_type": "code",
   "execution_count": 1,
   "id": "132e0a16",
   "metadata": {},
   "outputs": [],
   "source": [
    "from pylab import *\n",
    "from sympy import *\n",
    "from sympy.interactive import printing\n",
    "printing.init_printing(use_latex= True)\n",
    "import numpy as np\n",
    "import sympy as smp\n",
    "import scipy as scp\n",
    "import matplotlib.pyplot as plt\n",
    "from scipy.integrate import quad\n",
    "from sympy import symbols, Integer\n",
    "alpha, beta, sigma, psi, phi, theta= symbols ('alpha beta sigma psi phi theta')\n",
    "from sympy.physics.quantum import(Dagger,qapply,represent,InnerProduct,Commutator)\n",
    "from sympy.physics.quantum.sho1d import(RaisingOp,LoweringOp,NumberOp, Hamiltonian, SHOKet, SHOBra)\n",
    "##%load_ext sympy.interactive.IPythonprinting"
   ]
  },
  {
   "cell_type": "code",
   "execution_count": 2,
   "id": "1cba53e8",
   "metadata": {},
   "outputs": [],
   "source": [
    "from sympy.physics.quantum import Commutator, Dagger, Operator\n",
    "from sympy import Derivative, Function, Symbol\n",
    "from sympy.physics.quantum.operator import DifferentialOperator\n",
    "from sympy.physics.quantum.state import Wavefunction\n",
    "from sympy.physics.quantum.qapply import qapply\n"
   ]
  },
  {
   "cell_type": "code",
   "execution_count": 3,
   "id": "315bd4ce",
   "metadata": {},
   "outputs": [
    {
     "name": "stdout",
     "output_type": "stream",
     "text": [
      "Defaulting to user installation because normal site-packages is not writeable\n",
      "Requirement already satisfied: handcalcs in c:\\users\\yz7923\\appdata\\roaming\\python\\python311\\site-packages (1.6.5)\n",
      "Requirement already satisfied: more_itertools in c:\\programdata\\anaconda3\\lib\\site-packages (from handcalcs) (8.12.0)\n",
      "Requirement already satisfied: nbconvert>=6.0 in c:\\programdata\\anaconda3\\lib\\site-packages (from handcalcs) (6.5.4)\n",
      "Requirement already satisfied: innerscope in c:\\users\\yz7923\\appdata\\roaming\\python\\python311\\site-packages (from handcalcs) (0.6.0)\n",
      "Requirement already satisfied: pyparsing in c:\\programdata\\anaconda3\\lib\\site-packages (from handcalcs) (3.0.9)\n",
      "Requirement already satisfied: lxml in c:\\programdata\\anaconda3\\lib\\site-packages (from nbconvert>=6.0->handcalcs) (4.9.3)\n",
      "Requirement already satisfied: beautifulsoup4 in c:\\programdata\\anaconda3\\lib\\site-packages (from nbconvert>=6.0->handcalcs) (4.12.2)\n",
      "Requirement already satisfied: bleach in c:\\programdata\\anaconda3\\lib\\site-packages (from nbconvert>=6.0->handcalcs) (4.1.0)\n",
      "Requirement already satisfied: defusedxml in c:\\programdata\\anaconda3\\lib\\site-packages (from nbconvert>=6.0->handcalcs) (0.7.1)\n",
      "Requirement already satisfied: entrypoints>=0.2.2 in c:\\programdata\\anaconda3\\lib\\site-packages (from nbconvert>=6.0->handcalcs) (0.4)\n",
      "Requirement already satisfied: jinja2>=3.0 in c:\\programdata\\anaconda3\\lib\\site-packages (from nbconvert>=6.0->handcalcs) (3.1.2)\n",
      "Requirement already satisfied: jupyter-core>=4.7 in c:\\programdata\\anaconda3\\lib\\site-packages (from nbconvert>=6.0->handcalcs) (5.3.0)\n",
      "Requirement already satisfied: jupyterlab-pygments in c:\\programdata\\anaconda3\\lib\\site-packages (from nbconvert>=6.0->handcalcs) (0.1.2)\n",
      "Requirement already satisfied: MarkupSafe>=2.0 in c:\\programdata\\anaconda3\\lib\\site-packages (from nbconvert>=6.0->handcalcs) (2.1.1)\n",
      "Requirement already satisfied: mistune<2,>=0.8.1 in c:\\programdata\\anaconda3\\lib\\site-packages (from nbconvert>=6.0->handcalcs) (0.8.4)\n",
      "Requirement already satisfied: nbclient>=0.5.0 in c:\\programdata\\anaconda3\\lib\\site-packages (from nbconvert>=6.0->handcalcs) (0.5.13)\n",
      "Requirement already satisfied: nbformat>=5.1 in c:\\programdata\\anaconda3\\lib\\site-packages (from nbconvert>=6.0->handcalcs) (5.9.2)\n",
      "Requirement already satisfied: packaging in c:\\programdata\\anaconda3\\lib\\site-packages (from nbconvert>=6.0->handcalcs) (23.1)\n",
      "Requirement already satisfied: pandocfilters>=1.4.1 in c:\\programdata\\anaconda3\\lib\\site-packages (from nbconvert>=6.0->handcalcs) (1.5.0)\n",
      "Requirement already satisfied: pygments>=2.4.1 in c:\\programdata\\anaconda3\\lib\\site-packages (from nbconvert>=6.0->handcalcs) (2.15.1)\n",
      "Requirement already satisfied: tinycss2 in c:\\programdata\\anaconda3\\lib\\site-packages (from nbconvert>=6.0->handcalcs) (1.2.1)\n",
      "Requirement already satisfied: traitlets>=5.0 in c:\\programdata\\anaconda3\\lib\\site-packages (from nbconvert>=6.0->handcalcs) (5.7.1)\n",
      "Requirement already satisfied: toolz in c:\\programdata\\anaconda3\\lib\\site-packages (from innerscope->handcalcs) (0.12.0)\n",
      "Requirement already satisfied: platformdirs>=2.5 in c:\\programdata\\anaconda3\\lib\\site-packages (from jupyter-core>=4.7->nbconvert>=6.0->handcalcs) (3.10.0)\n",
      "Requirement already satisfied: pywin32>=300 in c:\\programdata\\anaconda3\\lib\\site-packages (from jupyter-core>=4.7->nbconvert>=6.0->handcalcs) (305.1)\n",
      "Requirement already satisfied: jupyter-client>=6.1.5 in c:\\programdata\\anaconda3\\lib\\site-packages (from nbclient>=0.5.0->nbconvert>=6.0->handcalcs) (7.4.9)\n",
      "Requirement already satisfied: nest-asyncio in c:\\programdata\\anaconda3\\lib\\site-packages (from nbclient>=0.5.0->nbconvert>=6.0->handcalcs) (1.5.6)\n",
      "Requirement already satisfied: fastjsonschema in c:\\programdata\\anaconda3\\lib\\site-packages (from nbformat>=5.1->nbconvert>=6.0->handcalcs) (2.16.2)\n",
      "Requirement already satisfied: jsonschema>=2.6 in c:\\programdata\\anaconda3\\lib\\site-packages (from nbformat>=5.1->nbconvert>=6.0->handcalcs) (4.17.3)\n",
      "Requirement already satisfied: soupsieve>1.2 in c:\\programdata\\anaconda3\\lib\\site-packages (from beautifulsoup4->nbconvert>=6.0->handcalcs) (2.4)\n",
      "Requirement already satisfied: six>=1.9.0 in c:\\programdata\\anaconda3\\lib\\site-packages (from bleach->nbconvert>=6.0->handcalcs) (1.16.0)\n",
      "Requirement already satisfied: webencodings in c:\\programdata\\anaconda3\\lib\\site-packages (from bleach->nbconvert>=6.0->handcalcs) (0.5.1)\n",
      "Requirement already satisfied: attrs>=17.4.0 in c:\\programdata\\anaconda3\\lib\\site-packages (from jsonschema>=2.6->nbformat>=5.1->nbconvert>=6.0->handcalcs) (22.1.0)\n",
      "Requirement already satisfied: pyrsistent!=0.17.0,!=0.17.1,!=0.17.2,>=0.14.0 in c:\\programdata\\anaconda3\\lib\\site-packages (from jsonschema>=2.6->nbformat>=5.1->nbconvert>=6.0->handcalcs) (0.18.0)\n",
      "Requirement already satisfied: python-dateutil>=2.8.2 in c:\\programdata\\anaconda3\\lib\\site-packages (from jupyter-client>=6.1.5->nbclient>=0.5.0->nbconvert>=6.0->handcalcs) (2.8.2)\n",
      "Requirement already satisfied: pyzmq>=23.0 in c:\\programdata\\anaconda3\\lib\\site-packages (from jupyter-client>=6.1.5->nbclient>=0.5.0->nbconvert>=6.0->handcalcs) (23.2.0)\n",
      "Requirement already satisfied: tornado>=6.2 in c:\\programdata\\anaconda3\\lib\\site-packages (from jupyter-client>=6.1.5->nbclient>=0.5.0->nbconvert>=6.0->handcalcs) (6.3.2)\n"
     ]
    }
   ],
   "source": [
    "!pip3 install handcalcs"
   ]
  },
  {
   "cell_type": "code",
   "execution_count": 4,
   "id": "3371759c",
   "metadata": {},
   "outputs": [
    {
     "name": "stdout",
     "output_type": "stream",
     "text": [
      "Defaulting to user installation because normal site-packages is not writeable\n",
      "Requirement already satisfied: latexify-py in c:\\users\\yz7923\\appdata\\roaming\\python\\python311\\site-packages (0.3.1)\n",
      "Requirement already satisfied: dill>=0.3.2 in c:\\programdata\\anaconda3\\lib\\site-packages (from latexify-py) (0.3.7)\n"
     ]
    }
   ],
   "source": [
    "!pip install latexify-py"
   ]
  },
  {
   "cell_type": "code",
   "execution_count": 5,
   "id": "bc803fb1",
   "metadata": {},
   "outputs": [],
   "source": [
    "import handcalcs.render\n",
    "import latexify\n",
    "import math"
   ]
  },
  {
   "cell_type": "code",
   "execution_count": 6,
   "id": "dbf5d50c",
   "metadata": {},
   "outputs": [
    {
     "data": {
      "image/png": "[encoded data removed]",
      "text/latex": [
       "$\\displaystyle H$"
      ],
      "text/plain": [
       "H"
      ]
     },
     "execution_count": 6,
     "metadata": {},
     "output_type": "execute_result"
    }
   ],
   "source": [
    "b=SHOBra('b')\n",
    "k=SHOKet('k')\n",
    "ad=RaisingOp('a')\n",
    "H=Hamiltonian('H')\n",
    "H\n",
    "#print(b,k,ad)"
   ]
  },
  {
   "cell_type": "code",
   "execution_count": 7,
   "id": "8a9c5c4e",
   "metadata": {},
   "outputs": [
    {
     "data": {
      "image/png": "[encoded data removed]",
      "text/latex": [
       "$\\displaystyle \\frac{m^{2} \\omega^{2} X^{2} + Px^{2}}{2 m}$"
      ],
      "text/plain": [
       " 2  2  2     2\n",
       "m ⋅ω ⋅X  + Px \n",
       "──────────────\n",
       "     2⋅m      "
      ]
     },
     "execution_count": 7,
     "metadata": {},
     "output_type": "execute_result"
    }
   ],
   "source": [
    "H.rewrite('xp')"
   ]
  },
  {
   "cell_type": "code",
   "execution_count": 8,
   "id": "645d88d2",
   "metadata": {},
   "outputs": [
    {
     "data": {
      "text/plain": [
       "'{\\\\left|k\\\\right\\\\rangle }'"
      ]
     },
     "execution_count": 8,
     "metadata": {},
     "output_type": "execute_result"
    }
   ],
   "source": [
    "latex(k)"
   ]
  },
  {
   "cell_type": "markdown",
   "id": "2526afa4",
   "metadata": {},
   "source": [
    "<font size =6> Variational Method\n",
    "<font size =3> $$E0= \\frac{{\\left\\langle\\psi0\\right|}H{\\left|\\psi0\\right\\rangle }}{{\\left\\langle \\psi0\\right|}{\\left|\\psi0\\right\\rangle }}$$"
   ]
  },
  {
   "cell_type": "markdown",
   "id": "fc0da87f",
   "metadata": {},
   "source": [
    "<font size =3>$$E\\phi= \\frac{{\\left\\langle\\phi\\right|}H{\\left|\\phi\\right\\rangle }}{{\\left\\langle \\phi\\right|}{\\left|\\phi\\right\\rangle }}$$\n",
    "\n",
    "<font size =3>$$E\\phi\\geq E0$$"
   ]
  },
  {
   "cell_type": "code",
   "execution_count": 14,
   "id": "d206466c",
   "metadata": {},
   "outputs": [],
   "source": [
    "#input trial function\n",
    "r= smp.symbols('r', real=True) #define r as variable\n",
    "alpha=smp.symbols('alpha', real=True, positive=True) #define constants\n",
    "\n",
    "def psi(r):\n",
    "    return e**(-alpha*r**2)\n",
    "\n",
    "#psif=e**(-alpha*r**2)"
   ]
  },
  {
   "cell_type": "code",
   "execution_count": 10,
   "id": "8f3aa0cd",
   "metadata": {},
   "outputs": [],
   "source": [
    "#from scipy.constants import *\n",
    "from scipy.constants import m_e, epsilon_0, hbar,pi,e\n",
    "me, e0, hbar=(m_e, epsilon_0, hbar)\n",
    "#from IPython.display import display\n",
    "#from sympy import init_printing"
   ]
  },
  {
   "cell_type": "code",
   "execution_count": 11,
   "id": "b13023c9",
   "metadata": {},
   "outputs": [],
   "source": [
    "from scipy.sparse.linalg import eigsh, eigs"
   ]
  },
  {
   "cell_type": "code",
   "execution_count": 20,
   "id": "5aaa2715",
   "metadata": {},
   "outputs": [
    {
     "data": {
      "text/latex": [
       "$\\displaystyle - 2.30707755234174 \\cdot 10^{-28} \\int\\limits_{0}^{\\infty} 1.602176634 \\cdot 10^{-19}^{- 2 \\alpha r^{2}} r \\left(1.0 \\cdot 1.602176634 \\cdot 10^{-19}^{\\alpha r^{2}} + 1.98225969146448 \\cdot 10^{-7} \\alpha^{2} r^{3} + 6.87048029375917 \\cdot 10^{-9} \\alpha r\\right)\\, dr$"
      ],
      "text/plain": [
       "                      ∞                                                       \n",
       "                      ⌠                                                       \n",
       "                      ⎮                      2   ⎛                      2     \n",
       "                      ⎮                -2⋅α⋅r    ⎜                   α⋅r      \n",
       "-2.30707755234174e-28⋅⎮ 1.602176634e-19       ⋅r⋅⎝1.0⋅1.602176634e-19     + 1.\n",
       "                      ⌡                                                       \n",
       "                      0                                                       \n",
       "\n",
       "                                                     \n",
       "                                                     \n",
       "                                                 ⎞   \n",
       "                   2  3                          ⎟   \n",
       "98225969146448e-7⋅α ⋅r  + 6.87048029375917e-9⋅α⋅r⎠ dr\n",
       "                                                     \n",
       "                                                     "
      ]
     },
     "execution_count": 20,
     "metadata": {},
     "output_type": "execute_result"
    }
   ],
   "source": [
    "#numerator calculation\n",
    "\n",
    "r = Symbol('r')\n",
    "#DifferentialOperator(1/r*Derivative(psi(r), r), psi(r))\n",
    "d1=diff(psi(r), r)\n",
    "d2=diff(d1,r)\n",
    "d1\n",
    "def d1(r):\n",
    "    return r**2*diff(psi(r), r)\n",
    "d2=diff(d1(r),r)\n",
    "def H(r):\n",
    "    return -hbar**2/(2*me*r**2)*d2-e**2/(4*pi*e0*r)\n",
    "I=smp.integrate(psi(r)*(H(r)*(r**2)),(r, 0, smp.oo))\n",
    "test=smp.integrate(psi(r),(r,0,smp.oo))\n",
    "#@latexify.function()\n",
    "#def H(r):\n",
    "#    return -hbar**2/(2*me*r**2)*diff(d1(r),r)-e**2/(4*pi*e0*r)\n",
    "#display(H)\n",
    "#@latexify.function()\n",
    "def I1(r):\n",
    "    return 4*pi*smp.integrate(psi(r)*H(r)*(r**2),(r, 0, smp.oo))\n",
    "I"
   ]
  },
  {
   "cell_type": "code",
   "execution_count": 17,
   "id": "09672d31",
   "metadata": {},
   "outputs": [
    {
     "name": "stdout",
     "output_type": "stream",
     "text": [
      "86.5555073317835*alpha*r**3/1.602176634e-19**(alpha*r**2)\n"
     ]
    },
    {
     "data": {
      "text/latex": [
       "$\\displaystyle 86.5555073317835 \\cdot 1.602176634 \\cdot 10^{-19}^{- \\alpha r^{2}} \\alpha r$"
      ],
      "text/plain": [
       "                                    2    \n",
       "                                -α⋅r     \n",
       "86.5555073317835⋅1.602176634e-19     ⋅α⋅r"
      ]
     },
     "metadata": {},
     "output_type": "display_data"
    }
   ],
   "source": [
    "print (r**2*diff(psi(r), r))\n",
    "display(d1)\n"
   ]
  },
  {
   "cell_type": "markdown",
   "id": "396351ba",
   "metadata": {},
   "source": [
    "\\displaystyle - 1.78508704724926 \\cdot 10^{-49} r - \\frac{6.10426432246119 \\cdot 10^{-39} \\cdot \\left(7491.85584946243 \\cdot 1.602176634 \\cdot 10^{-19}^{- \\alpha r^{2}} \\alpha^{2} r^{4} + 259.666521995351 \\cdot 1.602176634 \\cdot 10^{-19}^{- \\alpha r^{2}} \\alpha r^{2}\\right)}{r^{2}}"
   ]
  },
  {
   "cell_type": "code",
   "execution_count": null,
   "id": "1e245b85",
   "metadata": {},
   "outputs": [],
   "source": []
  }
 ],
 "metadata": {
  "kernelspec": {
   "display_name": "Python 3 (ipykernel)",
   "language": "python",
   "name": "python3"
  },
  "language_info": {
   "codemirror_mode": {
    "name": "ipython",
    "version": 3
   },
   "file_extension": ".py",
   "mimetype": "text/x-python",
   "name": "python",
   "nbconvert_exporter": "python",
   "pygments_lexer": "ipython3",
   "version": "3.11.5"
  }
 },
 "nbformat": 4,
 "nbformat_minor": 5
}
