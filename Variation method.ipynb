{
 "cells": [
  {
   "cell_type": "code",
   "execution_count": 22,
   "id": "132e0a16",
   "metadata": {},
   "outputs": [],
   "source": [
    "from pylab import *\n",
    "from sympy import *\n",
    "from sympy.interactive import printing\n",
    "printing.init_printing(use_latex= True)\n",
    "import numpy as np\n",
    "import sympy as smp\n",
    "import scipy as scp\n",
    "import matplotlib.pyplot as plt\n",
    "from scipy.integrate import quad\n",
    "from sympy import symbols, Integer\n",
    "alpha, beta, sigma, psi, phi, theta= symbols ('alpha beta sigma psi phi theta')\n",
    "from sympy.physics.quantum import(Dagger,qapply,represent,InnerProduct,Commutator)\n",
    "from sympy.physics.quantum.sho1d import(RaisingOp,LoweringOp,NumberOp, Hamiltonian, SHOKet, SHOBra)\n",
    "##%load_ext sympy.interactive.IPythonprinting"
   ]
  },
  {
   "cell_type": "code",
   "execution_count": 49,
   "id": "1cba53e8",
   "metadata": {},
   "outputs": [],
   "source": [
    "from sympy.physics.quantum import Commutator, Dagger, Operator\n",
    "from sympy import Derivative, Function, Symbol\n",
    "from sympy.physics.quantum.operator import DifferentialOperator\n",
    "from sympy.physics.quantum.state import Wavefunction\n",
    "from sympy.physics.quantum.qapply import qapply"
   ]
  },
  {
   "cell_type": "code",
   "execution_count": 29,
   "id": "dbf5d50c",
   "metadata": {},
   "outputs": [
    {
     "data": {
      "image/png": "[encoded data removed]",
      "text/latex": [
       "$\\displaystyle H$"
      ],
      "text/plain": [
       "H"
      ]
     },
     "execution_count": 29,
     "metadata": {},
     "output_type": "execute_result"
    }
   ],
   "source": [
    "b=SHOBra('b')\n",
    "k=SHOKet('k')\n",
    "ad=RaisingOp('a')\n",
    "H=Hamiltonian('H')\n",
    "H\n",
    "#print(b,k,ad)"
   ]
  },
  {
   "cell_type": "code",
   "execution_count": 31,
   "id": "8a9c5c4e",
   "metadata": {},
   "outputs": [
    {
     "data": {
      "image/png": "[encoded data removed]",
      "text/latex": [
       "$\\displaystyle \\frac{m^{2} \\omega^{2} X^{2} + Px^{2}}{2 m}$"
      ],
      "text/plain": [
       " 2  2  2     2\n",
       "m ⋅ω ⋅X  + Px \n",
       "──────────────\n",
       "     2⋅m      "
      ]
     },
     "execution_count": 31,
     "metadata": {},
     "output_type": "execute_result"
    }
   ],
   "source": [
    "H.rewrite('xp')"
   ]
  },
  {
   "cell_type": "code",
   "execution_count": 34,
   "id": "645d88d2",
   "metadata": {},
   "outputs": [
    {
     "data": {
      "text/plain": [
       "'{\\\\left|k\\\\right\\\\rangle }'"
      ]
     },
     "execution_count": 34,
     "metadata": {},
     "output_type": "execute_result"
    }
   ],
   "source": [
    "latex(k)"
   ]
  },
  {
   "cell_type": "markdown",
   "id": "2526afa4",
   "metadata": {},
   "source": [
    "<font size =6> Variational Method\n",
    "<font size =3> $$E0= \\frac{{\\left\\langle\\psi0\\right|}H{\\left|\\psi0\\right\\rangle }}{{\\left\\langle \\psi0\\right|}{\\left|\\psi0\\right\\rangle }}$$"
   ]
  },
  {
   "cell_type": "markdown",
   "id": "fc0da87f",
   "metadata": {},
   "source": [
    "<font size =3>$$E\\phi= \\frac{{\\left\\langle\\phi\\right|}H{\\left|\\phi\\right\\rangle }}{{\\left\\langle \\phi\\right|}{\\left|\\phi\\right\\rangle }}$$\n",
    "\n",
    "<font size =3>$$E\\phi\\geq E0$$"
   ]
  },
  {
   "cell_type": "code",
   "execution_count": 50,
   "id": "d206466c",
   "metadata": {},
   "outputs": [],
   "source": [
    "#input trial function\n",
    "r= smp.symbols('r', real=True) #define r as variable\n",
    "alpha, me,  =smp.symbols('alpha', real=True, positive=True) #define constants\n",
    "\n",
    "def psi(r):\n",
    "    return e**(-alpha*r**2)\n"
   ]
  },
  {
   "cell_type": "code",
   "execution_count": 54,
   "id": "5aaa2715",
   "metadata": {},
   "outputs": [
    {
     "data": {
      "image/png": "[encoded data removed]",
      "text/latex": [
       "$\\displaystyle - 2.0 \\cdot 2.71828182845905^{- \\alpha r^{2}} \\alpha$"
      ],
      "text/plain": [
       "                         2  \n",
       "                     -α⋅r   \n",
       "-2.0⋅2.71828182845905     ⋅α"
      ]
     },
     "execution_count": 54,
     "metadata": {},
     "output_type": "execute_result"
    }
   ],
   "source": [
    "#numerator calculation\n",
    "\n",
    "f = Function('f')\n",
    "r = Symbol('r')\n",
    "#DifferentialOperator(1/r*Derivative(psi(r), r), psi(r))\n",
    "d =r**2*diff(psi(r), r)\n",
    "d\n"
   ]
  },
  {
   "cell_type": "code",
   "execution_count": null,
   "id": "09672d31",
   "metadata": {},
   "outputs": [],
   "source": []
  }
 ],
 "metadata": {
  "kernelspec": {
   "display_name": "Python 3 (ipykernel)",
   "language": "python",
   "name": "python3"
  },
  "language_info": {
   "codemirror_mode": {
    "name": "ipython",
    "version": 3
   },
   "file_extension": ".py",
   "mimetype": "text/x-python",
   "name": "python",
   "nbconvert_exporter": "python",
   "pygments_lexer": "ipython3",
   "version": "3.11.5"
  }
 },
 "nbformat": 4,
 "nbformat_minor": 5
}
